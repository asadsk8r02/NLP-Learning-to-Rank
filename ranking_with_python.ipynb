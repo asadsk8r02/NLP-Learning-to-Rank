{
 "cells": [
  {
   "cell_type": "markdown",
   "metadata": {},
   "source": [
    "# Learning to Rank with Python"
   ]
  },
  {
   "cell_type": "code",
   "execution_count": 2,
   "metadata": {},
   "outputs": [],
   "source": [
    "%matplotlib inline\n",
    "\n",
    "import numpy as np\n",
    "import pandas as pd\n",
    "\n",
    "import matplotlib\n",
    "import matplotlib.pyplot as plt\n",
    "import seaborn as sns\n",
    "\n",
    "# Ranking model\n",
    "import xgboost as xgb\n",
    "from xgboost import DMatrix\n",
    "\n",
    "# Evaluating the ranking model\n",
    "from sklearn.metrics import dcg_score\n",
    "from sklearn.metrics import ndcg_score\n",
    "\n",
    "# ML model evaluation, regression\n",
    "from sklearn.metrics import mean_squared_error\n",
    "\n",
    "# ML model evaluation, classification\n",
    "import sklearn \n",
    "from sklearn.metrics import accuracy_score, precision_score\n",
    "from sklearn.metrics import recall_score, f1_score, roc_auc_score\n",
    "from sklearn.metrics import confusion_matrix\n",
    "\n",
    "import random\n",
    "from random import randint"
   ]
  },
  {
   "cell_type": "code",
   "execution_count": 3,
   "metadata": {},
   "outputs": [
    {
     "name": "stdout",
     "output_type": "stream",
     "text": [
      "np:  1.22.3\n",
      "pd:  1.5.1\n",
      "matplotlib:  3.6.2\n",
      "sns:  0.12.2\n",
      "xgb:  1.7.3\n",
      "sklearn:  1.0.2\n"
     ]
    }
   ],
   "source": [
    "print('np: ',np.__version__)\n",
    "print('pd: ',pd.__version__)\n",
    "print('matplotlib: ',matplotlib.__version__)\n",
    "print('sns: ',sns.__version__)\n",
    "print('xgb: ', xgb.__version__)\n",
    "print('sklearn: ',sklearn.__version__)"
   ]
  },
  {
   "cell_type": "markdown",
   "metadata": {},
   "source": [
    "### Data ingest\n",
    "\n",
    "We use a 50K-row portion of the query-response dataset to speed up the calculation."
   ]
  },
  {
   "cell_type": "code",
   "execution_count": 5,
   "metadata": {},
   "outputs": [
    {
     "name": "stdout",
     "output_type": "stream",
     "text": [
      "(10146, 137) Index(['covered query term number: body', 'covered query term number: anchor',\n",
      "       'covered query term number: title', 'covered query term number: url',\n",
      "       'covered query term number: whole document',\n",
      "       'covered query term ratio: body', 'covered query term ratio: anchor',\n",
      "       'covered query term ratio: title', 'covered query term ratio: url',\n",
      "       'covered query term ratio: whole document',\n",
      "       ...\n",
      "       'Inlink number', 'Outlink number', 'PageRank', 'SiteRank',\n",
      "       'QualityScore', 'QualityScore2', 'Query-url click count',\n",
      "       'url click count', 'url dwell time', 'Label'],\n",
      "      dtype='object', length=137)\n"
     ]
    },
    {
     "data": {
      "text/html": [
       "<div>\n",
       "<style scoped>\n",
       "    .dataframe tbody tr th:only-of-type {\n",
       "        vertical-align: middle;\n",
       "    }\n",
       "\n",
       "    .dataframe tbody tr th {\n",
       "        vertical-align: top;\n",
       "    }\n",
       "\n",
       "    .dataframe thead th {\n",
       "        text-align: right;\n",
       "    }\n",
       "</style>\n",
       "<table border=\"1\" class=\"dataframe\">\n",
       "  <thead>\n",
       "    <tr style=\"text-align: right;\">\n",
       "      <th></th>\n",
       "      <th>covered query term number: body</th>\n",
       "      <th>covered query term number: anchor</th>\n",
       "      <th>covered query term number: title</th>\n",
       "      <th>covered query term number: url</th>\n",
       "      <th>covered query term number: whole document</th>\n",
       "      <th>covered query term ratio: body</th>\n",
       "      <th>covered query term ratio: anchor</th>\n",
       "      <th>covered query term ratio: title</th>\n",
       "      <th>covered query term ratio: url</th>\n",
       "      <th>covered query term ratio: whole document</th>\n",
       "      <th>...</th>\n",
       "      <th>Inlink number</th>\n",
       "      <th>Outlink number</th>\n",
       "      <th>PageRank</th>\n",
       "      <th>SiteRank</th>\n",
       "      <th>QualityScore</th>\n",
       "      <th>QualityScore2</th>\n",
       "      <th>Query-url click count</th>\n",
       "      <th>url click count</th>\n",
       "      <th>url dwell time</th>\n",
       "      <th>Label</th>\n",
       "    </tr>\n",
       "  </thead>\n",
       "  <tbody>\n",
       "    <tr>\n",
       "      <th>0</th>\n",
       "      <td>3.0</td>\n",
       "      <td>0.0</td>\n",
       "      <td>1.0</td>\n",
       "      <td>1.0</td>\n",
       "      <td>3.0</td>\n",
       "      <td>1.0</td>\n",
       "      <td>0.0</td>\n",
       "      <td>0.333333</td>\n",
       "      <td>0.333333</td>\n",
       "      <td>1.0</td>\n",
       "      <td>...</td>\n",
       "      <td>1.0</td>\n",
       "      <td>5.0</td>\n",
       "      <td>3375.0</td>\n",
       "      <td>59803.0</td>\n",
       "      <td>6.0</td>\n",
       "      <td>4.0</td>\n",
       "      <td>0.0</td>\n",
       "      <td>0.0</td>\n",
       "      <td>0.000000</td>\n",
       "      <td>0.0</td>\n",
       "    </tr>\n",
       "    <tr>\n",
       "      <th>1</th>\n",
       "      <td>2.0</td>\n",
       "      <td>0.0</td>\n",
       "      <td>2.0</td>\n",
       "      <td>0.0</td>\n",
       "      <td>2.0</td>\n",
       "      <td>1.0</td>\n",
       "      <td>0.0</td>\n",
       "      <td>1.000000</td>\n",
       "      <td>0.000000</td>\n",
       "      <td>1.0</td>\n",
       "      <td>...</td>\n",
       "      <td>1.0</td>\n",
       "      <td>4.0</td>\n",
       "      <td>5107.0</td>\n",
       "      <td>36501.0</td>\n",
       "      <td>2.0</td>\n",
       "      <td>4.0</td>\n",
       "      <td>0.0</td>\n",
       "      <td>25.0</td>\n",
       "      <td>38.923333</td>\n",
       "      <td>4.0</td>\n",
       "    </tr>\n",
       "  </tbody>\n",
       "</table>\n",
       "<p>2 rows × 137 columns</p>\n",
       "</div>"
      ],
      "text/plain": [
       "   covered query term number: body  covered query term number: anchor  \\\n",
       "0                              3.0                                0.0   \n",
       "1                              2.0                                0.0   \n",
       "\n",
       "   covered query term number: title  covered query term number: url  \\\n",
       "0                               1.0                             1.0   \n",
       "1                               2.0                             0.0   \n",
       "\n",
       "   covered query term number: whole document  covered query term ratio: body  \\\n",
       "0                                        3.0                             1.0   \n",
       "1                                        2.0                             1.0   \n",
       "\n",
       "   covered query term ratio: anchor  covered query term ratio: title  \\\n",
       "0                               0.0                         0.333333   \n",
       "1                               0.0                         1.000000   \n",
       "\n",
       "   covered query term ratio: url  covered query term ratio: whole document  \\\n",
       "0                       0.333333                                       1.0   \n",
       "1                       0.000000                                       1.0   \n",
       "\n",
       "   ...  Inlink number  Outlink number  PageRank  SiteRank  QualityScore  \\\n",
       "0  ...            1.0             5.0    3375.0   59803.0           6.0   \n",
       "1  ...            1.0             4.0    5107.0   36501.0           2.0   \n",
       "\n",
       "   QualityScore2  Query-url click count  url click count  url dwell time  \\\n",
       "0            4.0                    0.0              0.0        0.000000   \n",
       "1            4.0                    0.0             25.0       38.923333   \n",
       "\n",
       "   Label  \n",
       "0    0.0  \n",
       "1    4.0  \n",
       "\n",
       "[2 rows x 137 columns]"
      ]
     },
     "execution_count": 5,
     "metadata": {},
     "output_type": "execute_result"
    }
   ],
   "source": [
    "#df_train = pd.read_csv('./data/data_train_letor_cleaned_2021JAN14_10K.csv')\n",
    "#df_test = pd.read_csv('./data/data_test_letor_cleaned_2021JAN14_10K.csv')\n",
    "\n",
    "df_train = pd.read_csv('./data/data_Xy_0_4_10K.csv')\n",
    "df_test = pd.read_csv('./data/data_Xy_0_4_10K.csv')\n",
    "\n",
    "#df_train = df_train.head(10000) \n",
    "#df_test = df_test.head(10000)\n",
    "df_train = df_train.head(50000) \n",
    "df_test = df_test.head(50000)\n",
    "\n",
    "print(df_train.shape, df_train.columns)\n",
    "df_train.head(2)"
   ]
  },
  {
   "cell_type": "markdown",
   "metadata": {},
   "source": [
    "### Prepare data for machine learning"
   ]
  },
  {
   "cell_type": "code",
   "execution_count": 12,
   "metadata": {},
   "outputs": [
    {
     "name": "stdout",
     "output_type": "stream",
     "text": [
      "(50000, 138) (50000, 136) (50000,)\n",
      "(50000, 138) (50000, 136) (50000,)\n"
     ]
    }
   ],
   "source": [
    "df_y_train = df_train['Label']\n",
    "df_X_train = df_train.drop(columns=['Label', 'group'])\n",
    "print(df_train.shape, df_X_train.shape, df_y_train.shape)\n",
    "\n",
    "df_y_test = df_test['Label']\n",
    "df_X_test = df_test.drop(columns=['Label', 'group'])\n",
    "df_g_test = df_test['group']\n",
    "print(df_test.shape, df_X_test.shape, df_y_test.shape)"
   ]
  },
  {
   "cell_type": "code",
   "execution_count": 13,
   "metadata": {},
   "outputs": [],
   "source": [
    "X_train = df_X_train.values\n",
    "y_train = df_y_train.values\n",
    "\n",
    "X_test = df_X_test.values\n",
    "y_test = df_y_test.values\n",
    "g_test = df_g_test.values\n",
    "\n",
    "training_data = DMatrix(X_train, y_train)\n",
    "testing_data = DMatrix(X_test, y_test)"
   ]
  },
  {
   "cell_type": "markdown",
   "metadata": {},
   "source": [
    "#### Extract and set group sizes"
   ]
  },
  {
   "cell_type": "code",
   "execution_count": 14,
   "metadata": {},
   "outputs": [],
   "source": [
    "def get_group_sizes(df):\n",
    "    '''\n",
    "    '''\n",
    "    grps_uniq = df['group'].unique()\n",
    "    grp_sizes = []\n",
    "    for grp in grps_uniq:\n",
    "        df_grp = df[df['group'] == grp]\n",
    "        grp_sizes.append(df_grp.shape[0])\n",
    "        \n",
    "    return grp_sizes"
   ]
  },
  {
   "cell_type": "code",
   "execution_count": 15,
   "metadata": {},
   "outputs": [],
   "source": [
    "train_group_sizes = get_group_sizes(df_train)\n",
    "test_group_sizes = get_group_sizes(df_test)"
   ]
  },
  {
   "cell_type": "code",
   "execution_count": 16,
   "metadata": {},
   "outputs": [],
   "source": [
    "#testing_data.set_group(g_test) # is this correct?\n",
    "\n",
    "training_data.set_group(train_group_sizes)\n",
    "testing_data.set_group(test_group_sizes)"
   ]
  },
  {
   "cell_type": "markdown",
   "metadata": {},
   "source": [
    "### Train ranking model"
   ]
  },
  {
   "cell_type": "markdown",
   "metadata": {},
   "source": [
    "#### Ranking Algorithms"
   ]
  },
  {
   "cell_type": "code",
   "execution_count": 17,
   "metadata": {},
   "outputs": [],
   "source": [
    "param_ranknet = {'max_depth':6, 'eta':0.3, 'objective':'rank:map'}\n",
    "param_lambdarank = {'max_depth':6, 'eta':0.3, 'objective':'rank:pairwise'} # 'num_round':10'silent':0\n",
    "param_lambdamart = {'max_depth':6, 'eta':0.3, 'objective':'rank:ndcg'}\n",
    "\n",
    "model_ranknet = xgb.train(param_ranknet, training_data);\n",
    "model_lamdarank = xgb.train(param_lambdarank, training_data);\n",
    "model_lambdamart = xgb.train(param_lambdamart, training_data);\n",
    "\n",
    "preds_train_ranknet = model_ranknet.predict(training_data)\n",
    "preds_test_ranknet = model_ranknet.predict(testing_data)\n",
    "df_train['preds_ranknet'] = preds_train_ranknet\n",
    "df_test['preds_ranknet'] = preds_test_ranknet\n",
    "\n",
    "preds_train_lambdarank = model_lamdarank.predict(training_data)\n",
    "preds_test_lambdarank = model_lamdarank.predict(testing_data)\n",
    "df_train['preds_lambdarank'] = preds_train_lambdarank\n",
    "df_test['preds_lambdarank'] = preds_test_lambdarank\n",
    "\n",
    "preds_train_lambdamart = model_lambdamart.predict(training_data)\n",
    "preds_test_lambdamart = model_lambdamart.predict(testing_data)\n",
    "df_train['preds_lambdamart'] = preds_train_lambdamart\n",
    "df_test['preds_lambdamart'] = preds_test_lambdamart"
   ]
  },
  {
   "cell_type": "markdown",
   "metadata": {},
   "source": [
    "#### Classification Model "
   ]
  },
  {
   "cell_type": "code",
   "execution_count": 21,
   "metadata": {},
   "outputs": [],
   "source": [
    "xg_clf = xgb.XGBClassifier(max_depth=6, objective='multi:softmax')\n",
    "xg_clf.fit(X_train, y_train)\n",
    "y_pred_train = xg_clf.predict(X_train)\n",
    "y_pred_test = xg_clf.predict(X_test)\n",
    "df_train['preds_classifier'] = y_pred_train\n",
    "df_test['preds_classifier'] = y_pred_test"
   ]
  },
  {
   "cell_type": "markdown",
   "metadata": {},
   "source": [
    "#### Random Model (see readme)"
   ]
  },
  {
   "cell_type": "code",
   "execution_count": 60,
   "metadata": {},
   "outputs": [],
   "source": [
    "df_train['preds_random'] = [randint(0, 4) for p in range(0, df_train.shape[0])]\n",
    "df_test['preds_random'] = [randint(0, 4) for p in range(0, df_test.shape[0])]"
   ]
  },
  {
   "cell_type": "code",
   "execution_count": 61,
   "metadata": {},
   "outputs": [
    {
     "data": {
      "text/plain": [
       "0        0\n",
       "1        2\n",
       "2        2\n",
       "3        1\n",
       "4        4\n",
       "        ..\n",
       "49995    2\n",
       "49996    3\n",
       "49997    1\n",
       "49998    2\n",
       "49999    1\n",
       "Name: preds_random, Length: 50000, dtype: int64"
      ]
     },
     "execution_count": 61,
     "metadata": {},
     "output_type": "execute_result"
    }
   ],
   "source": [
    "df_test['preds_random']"
   ]
  },
  {
   "cell_type": "markdown",
   "metadata": {},
   "source": [
    "### Evaluate the ranking"
   ]
  },
  {
   "cell_type": "code",
   "execution_count": 22,
   "metadata": {},
   "outputs": [],
   "source": [
    "def score_ranking(df_all, preds_col):\n",
    "    '''\n",
    "    '''\n",
    "    df_all = df_all.copy()\n",
    "    ndcg_score_1 = []\n",
    "    ndcg_score_vec = []\n",
    "\n",
    "    for group in df_all['group'].unique():\n",
    "        df_grp = []\n",
    "        ndcg_score_1 = []\n",
    "        df_grp = df_all[df_all['group'] == group]\n",
    "        ndcg_score_1 = ndcg_score([df_grp['Label'].to_list()], \n",
    "                                  [df_grp[preds_col].to_list()])\n",
    "        ndcg_score_vec.append(ndcg_score_1)\n",
    "    \n",
    "    return ndcg_score_vec"
   ]
  },
  {
   "cell_type": "code",
   "execution_count": 62,
   "metadata": {},
   "outputs": [],
   "source": [
    "ndcg_scores_test_ranknet = score_ranking(df_test, 'preds_ranknet')\n",
    "ndcg_scores_train_ranknet = score_ranking(df_train, 'preds_ranknet')\n",
    "\n",
    "ndcg_scores_test_lambdarank = score_ranking(df_test, 'preds_lambdarank')\n",
    "ndcg_scores_train_lambdarank = score_ranking(df_train, 'preds_lambdarank')\n",
    "\n",
    "ndcg_scores_test_lambdamart = score_ranking(df_test, 'preds_lambdamart')\n",
    "ndcg_scores_train_lambdamart = score_ranking(df_train, 'preds_lambdamart')\n",
    "\n",
    "ndcg_scores_test_classifier = score_ranking(df_test, 'preds_classifier')\n",
    "ndcg_scores_train_classifier = score_ranking(df_train, 'preds_classifier')\n",
    "\n",
    "ndcg_scores_test_random = score_ranking(df_test, 'preds_random')\n",
    "ndcg_scores_train_random = score_ranking(df_train, 'preds_random')"
   ]
  },
  {
   "cell_type": "code",
   "execution_count": 63,
   "metadata": {},
   "outputs": [
    {
     "name": "stdout",
     "output_type": "stream",
     "text": [
      "0.7592793187003712 0.132276708379272 0.7802638014482798\n",
      "0.7228999795006154 0.1491944614186254 0.7465016218603787\n",
      " \n",
      "0.7879554752908572 0.1367271629446792 0.8221698928839302\n",
      "0.7474663176525514 0.1545824683031473 0.7858863885032823\n",
      " \n",
      "0.774632000940681 0.1291809526636206 0.7987970539970299\n",
      "0.7302634582652903 0.1560281638869699 0.7673134158553447\n",
      " \n",
      "0.8484908876188219 0.17226428315062303 0.9133868249415895\n",
      "0.7012500726145249 0.1606881174475421 0.7444902772707191\n",
      " \n",
      "0.6139344434438637 0.1480423232147298 0.6426076231433504\n",
      "0.6239925132620211 0.15049330760875568 0.6522173801015718\n"
     ]
    }
   ],
   "source": [
    "print(np.mean(ndcg_scores_train_ranknet), np.std(ndcg_scores_train_ranknet), np.median(ndcg_scores_train_ranknet))\n",
    "print(np.mean(ndcg_scores_test_ranknet), np.std(ndcg_scores_test_ranknet),np.median(ndcg_scores_test_ranknet))\n",
    "print(\" \")\n",
    "print(np.mean(ndcg_scores_train_lambdarank), np.std(ndcg_scores_train_lambdarank),np.median(ndcg_scores_train_lambdarank))\n",
    "print(np.mean(ndcg_scores_test_lambdarank), np.std(ndcg_scores_test_lambdarank) ,np.median(ndcg_scores_test_lambdarank))\n",
    "print(\" \")\n",
    "print(np.mean(ndcg_scores_train_lambdamart), np.std(ndcg_scores_train_lambdamart),np.median(ndcg_scores_train_lambdamart))\n",
    "print(np.mean(ndcg_scores_test_lambdamart), np.std(ndcg_scores_test_lambdamart), np.median(ndcg_scores_test_lambdamart))\n",
    "print(\" \")\n",
    "print(np.mean(ndcg_scores_train_classifier), np.std(ndcg_scores_train_classifier),np.median(ndcg_scores_train_classifier))\n",
    "print(np.mean(ndcg_scores_test_classifier),np.std(ndcg_scores_test_classifier) ,np.median(ndcg_scores_test_classifier))\n",
    "print(\" \")\n",
    "print(np.mean(ndcg_scores_train_random), np.std(ndcg_scores_train_random),np.median(ndcg_scores_train_random))\n",
    "print(np.mean(ndcg_scores_test_random),np.std(ndcg_scores_test_random) ,np.median(ndcg_scores_test_random))"
   ]
  },
  {
   "cell_type": "markdown",
   "metadata": {},
   "source": [
    "#### Check for class collapse in the classifer"
   ]
  },
  {
   "cell_type": "code",
   "execution_count": 25,
   "metadata": {},
   "outputs": [
    {
     "data": {
      "text/plain": [
       "0.0    29384\n",
       "1.0    13669\n",
       "2.0     6043\n",
       "3.0      658\n",
       "4.0      246\n",
       "Name: Label, dtype: int64"
      ]
     },
     "execution_count": 25,
     "metadata": {},
     "output_type": "execute_result"
    }
   ],
   "source": [
    "df_train['Label'].value_counts()"
   ]
  },
  {
   "cell_type": "code",
   "execution_count": 26,
   "metadata": {},
   "outputs": [
    {
     "data": {
      "text/plain": [
       "0.0    35355\n",
       "1.0    10987\n",
       "2.0     2938\n",
       "3.0      475\n",
       "4.0      245\n",
       "Name: preds_classifier, dtype: int64"
      ]
     },
     "execution_count": 26,
     "metadata": {},
     "output_type": "execute_result"
    }
   ],
   "source": [
    "df_train['preds_classifier'].value_counts()"
   ]
  },
  {
   "cell_type": "code",
   "execution_count": 27,
   "metadata": {},
   "outputs": [
    {
     "data": {
      "text/plain": [
       "0.0    28225\n",
       "1.0    14094\n",
       "2.0     6623\n",
       "3.0      823\n",
       "4.0      235\n",
       "Name: Label, dtype: int64"
      ]
     },
     "execution_count": 27,
     "metadata": {},
     "output_type": "execute_result"
    }
   ],
   "source": [
    "df_test['Label'].value_counts()"
   ]
  },
  {
   "cell_type": "code",
   "execution_count": 28,
   "metadata": {},
   "outputs": [
    {
     "data": {
      "text/plain": [
       "0.0    36669\n",
       "1.0    11005\n",
       "2.0     2235\n",
       "4.0       47\n",
       "3.0       44\n",
       "Name: preds_classifier, dtype: int64"
      ]
     },
     "execution_count": 28,
     "metadata": {},
     "output_type": "execute_result"
    }
   ],
   "source": [
    "df_test['preds_classifier'].value_counts()"
   ]
  },
  {
   "cell_type": "markdown",
   "metadata": {},
   "source": [
    "Note that the classifier is not simply predicting the majority class . . . a crude but useful check."
   ]
  },
  {
   "cell_type": "markdown",
   "metadata": {},
   "source": [
    "### Visualize Results"
   ]
  },
  {
   "cell_type": "code",
   "execution_count": 30,
   "metadata": {
    "scrolled": true
   },
   "outputs": [
    {
     "data": {
      "text/plain": [
       "<matplotlib.legend.Legend at 0x282a9026d88>"
      ]
     },
     "execution_count": 30,
     "metadata": {},
     "output_type": "execute_result"
    },
    {
     "data": {
      "image/png": "[encoded data removed]",
      "text/plain": [
       "<Figure size 432x288 with 1 Axes>"
      ]
     },
     "metadata": {
      "needs_background": "light"
     },
     "output_type": "display_data"
    }
   ],
   "source": [
    "plt.figure()\n",
    "plt.hist(ndcg_scores_test_ranknet, bins=30, label='ranknet', alpha=0.5);\n",
    "plt.hist(ndcg_scores_test_lambdarank, bins=30, label='lambdarank', alpha=0.5);\n",
    "plt.hist(ndcg_scores_test_lambdamart, bins=30, label='lambdamart', alpha=0.5);\n",
    "plt.hist(ndcg_scores_test_classifier, bins=30, label='classifier', alpha=0.5);\n",
    "plt.legend()"
   ]
  },
  {
   "cell_type": "code",
   "execution_count": 64,
   "metadata": {},
   "outputs": [
    {
     "data": {
      "text/html": [
       "<div>\n",
       "<style scoped>\n",
       "    .dataframe tbody tr th:only-of-type {\n",
       "        vertical-align: middle;\n",
       "    }\n",
       "\n",
       "    .dataframe tbody tr th {\n",
       "        vertical-align: top;\n",
       "    }\n",
       "\n",
       "    .dataframe thead th {\n",
       "        text-align: right;\n",
       "    }\n",
       "</style>\n",
       "<table border=\"1\" class=\"dataframe\">\n",
       "  <thead>\n",
       "    <tr style=\"text-align: right;\">\n",
       "      <th></th>\n",
       "      <th>algorithm</th>\n",
       "      <th>score</th>\n",
       "    </tr>\n",
       "  </thead>\n",
       "  <tbody>\n",
       "    <tr>\n",
       "      <th>0</th>\n",
       "      <td>ranknet</td>\n",
       "      <td>0.875252</td>\n",
       "    </tr>\n",
       "    <tr>\n",
       "      <th>1</th>\n",
       "      <td>ranknet</td>\n",
       "      <td>0.834931</td>\n",
       "    </tr>\n",
       "    <tr>\n",
       "      <th>2</th>\n",
       "      <td>ranknet</td>\n",
       "      <td>0.566327</td>\n",
       "    </tr>\n",
       "    <tr>\n",
       "      <th>3</th>\n",
       "      <td>ranknet</td>\n",
       "      <td>0.627582</td>\n",
       "    </tr>\n",
       "    <tr>\n",
       "      <th>4</th>\n",
       "      <td>ranknet</td>\n",
       "      <td>0.768009</td>\n",
       "    </tr>\n",
       "    <tr>\n",
       "      <th>...</th>\n",
       "      <td>...</td>\n",
       "      <td>...</td>\n",
       "    </tr>\n",
       "    <tr>\n",
       "      <th>451</th>\n",
       "      <td>random</td>\n",
       "      <td>0.718385</td>\n",
       "    </tr>\n",
       "    <tr>\n",
       "      <th>452</th>\n",
       "      <td>random</td>\n",
       "      <td>0.654419</td>\n",
       "    </tr>\n",
       "    <tr>\n",
       "      <th>453</th>\n",
       "      <td>random</td>\n",
       "      <td>0.556000</td>\n",
       "    </tr>\n",
       "    <tr>\n",
       "      <th>454</th>\n",
       "      <td>random</td>\n",
       "      <td>0.753067</td>\n",
       "    </tr>\n",
       "    <tr>\n",
       "      <th>455</th>\n",
       "      <td>random</td>\n",
       "      <td>0.610781</td>\n",
       "    </tr>\n",
       "  </tbody>\n",
       "</table>\n",
       "<p>2280 rows × 2 columns</p>\n",
       "</div>"
      ],
      "text/plain": [
       "    algorithm     score\n",
       "0     ranknet  0.875252\n",
       "1     ranknet  0.834931\n",
       "2     ranknet  0.566327\n",
       "3     ranknet  0.627582\n",
       "4     ranknet  0.768009\n",
       "..        ...       ...\n",
       "451    random  0.718385\n",
       "452    random  0.654419\n",
       "453    random  0.556000\n",
       "454    random  0.753067\n",
       "455    random  0.610781\n",
       "\n",
       "[2280 rows x 2 columns]"
      ]
     },
     "execution_count": 64,
     "metadata": {},
     "output_type": "execute_result"
    }
   ],
   "source": [
    "#df_scores = pd.DataFrame(columns=['algorithm','score'])\n",
    "\n",
    "#df_tmp = []\n",
    "df_scores_ranknet = pd.DataFrame({'algorithm':'ranknet',\n",
    "                       'score': ndcg_scores_test_ranknet\n",
    "                      })\n",
    "df_scores_lambdarank = pd.DataFrame({'algorithm':'lambdarank',\n",
    "                       'score': ndcg_scores_test_lambdarank\n",
    "                      })\n",
    "df_scores_lambdamart = pd.DataFrame({'algorithm':'lambdamart',\n",
    "                       'score': ndcg_scores_test_lambdamart\n",
    "                      })\n",
    "df_scores_classifier = pd.DataFrame({'algorithm':'classifier',\n",
    "                       'score': ndcg_scores_test_classifier\n",
    "                      })\n",
    "df_scores_random = pd.DataFrame({'algorithm':'random',\n",
    "                       'score': ndcg_scores_test_random\n",
    "                      })\n",
    "df_scores = pd.concat([df_scores_ranknet, df_scores_lambdarank, df_scores_lambdamart, df_scores_classifier, df_scores_random])\n",
    "\n",
    "df_scores"
   ]
  },
  {
   "cell_type": "code",
   "execution_count": 65,
   "metadata": {},
   "outputs": [
    {
     "data": {
      "text/plain": [
       "<seaborn.axisgrid.FacetGrid at 0x282a922cf48>"
      ]
     },
     "execution_count": 65,
     "metadata": {},
     "output_type": "execute_result"
    },
    {
     "data": {
      "text/plain": [
       "<Figure size 432x288 with 0 Axes>"
      ]
     },
     "metadata": {},
     "output_type": "display_data"
    },
    {
     "data": {
      "image/png": "[encoded data removed]",
      "text/plain": [
       "<Figure size 457.125x360 with 1 Axes>"
      ]
     },
     "metadata": {
      "needs_background": "light"
     },
     "output_type": "display_data"
    }
   ],
   "source": [
    "plt.figure()\n",
    "sns.displot(df_scores, x='score', hue='algorithm', kind='kde')"
   ]
  },
  {
   "cell_type": "code",
   "execution_count": 67,
   "metadata": {},
   "outputs": [
    {
     "name": "stdout",
     "output_type": "stream",
     "text": [
      "Algorithm: Random\n"
     ]
    },
    {
     "data": {
      "text/plain": [
       "count    456.000000\n",
       "mean       0.623993\n",
       "std        0.150659\n",
       "min        0.000000\n",
       "25%        0.541745\n",
       "50%        0.652217\n",
       "75%        0.731037\n",
       "max        0.881100\n",
       "Name: score, dtype: float64"
      ]
     },
     "execution_count": 67,
     "metadata": {},
     "output_type": "execute_result"
    }
   ],
   "source": [
    "print('Algorithm: Random')\n",
    "df_scores_random['score'].describe()"
   ]
  },
  {
   "cell_type": "code",
   "execution_count": 33,
   "metadata": {},
   "outputs": [
    {
     "name": "stdout",
     "output_type": "stream",
     "text": [
      "Algorithm: Classifier\n"
     ]
    },
    {
     "data": {
      "text/plain": [
       "count    456.000000\n",
       "mean       0.701250\n",
       "std        0.160865\n",
       "min        0.000000\n",
       "25%        0.642645\n",
       "50%        0.744490\n",
       "75%        0.808182\n",
       "max        1.000000\n",
       "Name: score, dtype: float64"
      ]
     },
     "execution_count": 33,
     "metadata": {},
     "output_type": "execute_result"
    }
   ],
   "source": [
    "print('Algorithm: Classifier')\n",
    "df_scores_classifier['score'].describe()"
   ]
  },
  {
   "cell_type": "code",
   "execution_count": 34,
   "metadata": {},
   "outputs": [
    {
     "name": "stdout",
     "output_type": "stream",
     "text": [
      "Algorithm: RankNet\n"
     ]
    },
    {
     "data": {
      "text/plain": [
       "count    456.000000\n",
       "mean       0.722900\n",
       "std        0.149358\n",
       "min        0.000000\n",
       "25%        0.666739\n",
       "50%        0.746502\n",
       "75%        0.817264\n",
       "max        1.000000\n",
       "Name: score, dtype: float64"
      ]
     },
     "execution_count": 34,
     "metadata": {},
     "output_type": "execute_result"
    }
   ],
   "source": [
    "print('Algorithm: RankNet')\n",
    "df_scores_ranknet['score'].describe()"
   ]
  },
  {
   "cell_type": "code",
   "execution_count": 35,
   "metadata": {
    "scrolled": true
   },
   "outputs": [
    {
     "name": "stdout",
     "output_type": "stream",
     "text": [
      "Algorithm: LambdaRank\n"
     ]
    },
    {
     "data": {
      "text/plain": [
       "count    456.000000\n",
       "mean       0.747466\n",
       "std        0.154752\n",
       "min        0.000000\n",
       "25%        0.703637\n",
       "50%        0.785886\n",
       "75%        0.842141\n",
       "max        1.000000\n",
       "Name: score, dtype: float64"
      ]
     },
     "execution_count": 35,
     "metadata": {},
     "output_type": "execute_result"
    }
   ],
   "source": [
    "print('Algorithm: LambdaRank')\n",
    "df_scores_lambdarank['score'].describe()"
   ]
  },
  {
   "cell_type": "code",
   "execution_count": 36,
   "metadata": {},
   "outputs": [
    {
     "name": "stdout",
     "output_type": "stream",
     "text": [
      "Algorithm: LambdaMart\n"
     ]
    },
    {
     "data": {
      "text/plain": [
       "count    456.000000\n",
       "mean       0.730263\n",
       "std        0.156200\n",
       "min        0.000000\n",
       "25%        0.679672\n",
       "50%        0.767313\n",
       "75%        0.832004\n",
       "max        1.000000\n",
       "Name: score, dtype: float64"
      ]
     },
     "execution_count": 36,
     "metadata": {},
     "output_type": "execute_result"
    }
   ],
   "source": [
    "print('Algorithm: LambdaMart')\n",
    "df_scores_lambdamart['score'].describe()"
   ]
  },
  {
   "cell_type": "code",
   "execution_count": 68,
   "metadata": {},
   "outputs": [],
   "source": [
    "df_scores = pd.DataFrame({'Algorithm':['Classifier', 'Random','RankNet','LambdaRank','LambdaMart'],\n",
    "                          'Mean NCDG Score': [0.701250, 0.623993,0.722900, 0.747466, 0.730263]\n",
    "    \n",
    "})"
   ]
  },
  {
   "cell_type": "code",
   "execution_count": 84,
   "metadata": {},
   "outputs": [
    {
     "data": {
      "text/plain": [
       "(0.5, 0.8)"
      ]
     },
     "execution_count": 84,
     "metadata": {},
     "output_type": "execute_result"
    },
    {
     "data": {
      "image/png": "[encoded data removed]",
      "text/plain": [
       "<Figure size 432x288 with 1 Axes>"
      ]
     },
     "metadata": {},
     "output_type": "display_data"
    }
   ],
   "source": [
    "plt.figure()\n",
    "plt.style.use('seaborn-whitegrid')\n",
    "df_scores = df_scores.sort_values(by=['Mean NCDG Score'])\n",
    "sns.barplot(x=df_scores['Algorithm'], y=df_scores['Mean NCDG Score'], palette='crest')\n",
    "plt.ylim(0.5, 0.80)"
   ]
  },
  {
   "cell_type": "markdown",
   "metadata": {},
   "source": [
    "### Discussion\n",
    "\n",
    "We see that the ranking algorithms achieve a mean NCDG score higher than both the random model and the classification model, but it is closer than you might expect. LambdaRank also does slightly better than LambdMart, which also warrants further investigation. The next steps here will be to explore hyperparameter settings and expand the model training to a larger fraction of the dataset. "
   ]
  }
 ],
 "metadata": {
  "kernelspec": {
   "display_name": "Python 3 (ipykernel)",
   "language": "python",
   "name": "python3"
  },
  "language_info": {
   "codemirror_mode": {
    "name": "ipython",
    "version": 3
   },
   "file_extension": ".py",
   "mimetype": "text/x-python",
   "name": "python",
   "nbconvert_exporter": "python",
   "pygments_lexer": "ipython3",
   "version": "3.9.13"
  }
 },
 "nbformat": 4,
 "nbformat_minor": 4
}
